{
  "nbformat": 4,
  "nbformat_minor": 0,
  "metadata": {
    "colab": {
      "name": "2018132_2018470.ipynb",
      "provenance": [],
      "collapsed_sections": []
    },
    "kernelspec": {
      "name": "python3",
      "display_name": "Python 3"
    },
    "language_info": {
      "name": "python"
    }
  },
  "cells": [
    {
      "cell_type": "code",
      "metadata": {
        "id": "hIymSDOMLCl2"
      },
      "source": [
        "import numpy as np \n",
        "import pandas as pd \n",
        "import seaborn as sns \n",
        "import matplotlib.pyplot as plt\n",
        "plt.style.use('ggplot')\n",
        "from sklearn.metrics import classification_report, confusion_matrix\n",
        "import nltk\n",
        "from nltk.corpus import stopwords\n",
        "from sklearn.model_selection import train_test_split\n",
        "from mlxtend.plotting import plot_confusion_matrix\n",
        "import matplotlib.cm as cm\n",
        "from matplotlib import rcParams\n",
        "from collections import Counter\n",
        "from nltk.tokenize import RegexpTokenizer\n",
        "import re\n",
        "import string\n",
        "from tensorflow.keras.layers import LSTM, Activation, Dense, Dropout, Input, Embedding\n",
        "from tensorflow.keras.models import Model\n",
        "from tensorflow.keras.optimizers import RMSprop\n",
        "from tensorflow.keras.preprocessing.text import Tokenizer\n",
        "from tensorflow.keras.preprocessing import sequence\n",
        "%matplotlib inline\n",
        "import warnings\n",
        "warnings.filterwarnings(\"ignore\")"
      ],
      "execution_count": null,
      "outputs": []
    },
    {
      "cell_type": "code",
      "metadata": {
        "id": "amOwU8OPPZ4y"
      },
      "source": [
        "#Now we mount our drive\n",
        "from google.colab import drive\n",
        "from google.colab import files \n",
        "#drive.mount('/content/gdrive')\n",
        "#uploaded = files.upload()"
      ],
      "execution_count": null,
      "outputs": []
    },
    {
      "cell_type": "code",
      "metadata": {
        "id": "whQtErR7mcB5"
      },
      "source": [
        "data = pd.read_csv('train.csv', engine='python')\n",
        "data.columns= [\"Label\", \"Time\", \"Date\", \"Query\", \"Username\", \"Text\"]"
      ],
      "execution_count": null,
      "outputs": []
    },
    {
      "cell_type": "code",
      "metadata": {
        "colab": {
          "base_uri": "https://localhost:8080/",
          "height": 204
        },
        "id": "xREDt8gGoaV_",
        "outputId": "4c6930db-0b82-4393-de09-63eade56b445"
      },
      "source": [
        "data.head()"
      ],
      "execution_count": null,
      "outputs": [
        {
          "output_type": "execute_result",
          "data": {
            "text/html": [
              "<div>\n",
              "<style scoped>\n",
              "    .dataframe tbody tr th:only-of-type {\n",
              "        vertical-align: middle;\n",
              "    }\n",
              "\n",
              "    .dataframe tbody tr th {\n",
              "        vertical-align: top;\n",
              "    }\n",
              "\n",
              "    .dataframe thead th {\n",
              "        text-align: right;\n",
              "    }\n",
              "</style>\n",
              "<table border=\"1\" class=\"dataframe\">\n",
              "  <thead>\n",
              "    <tr style=\"text-align: right;\">\n",
              "      <th></th>\n",
              "      <th>Label</th>\n",
              "      <th>Time</th>\n",
              "      <th>Date</th>\n",
              "      <th>Query</th>\n",
              "      <th>Username</th>\n",
              "      <th>Text</th>\n",
              "    </tr>\n",
              "  </thead>\n",
              "  <tbody>\n",
              "    <tr>\n",
              "      <th>0</th>\n",
              "      <td>0</td>\n",
              "      <td>1563649992</td>\n",
              "      <td>Sun Apr 19 23:40:16 PDT 2009</td>\n",
              "      <td>NO_QUERY</td>\n",
              "      <td>_ashleiigh</td>\n",
              "      <td>i hate painting i have white paint all over my...</td>\n",
              "    </tr>\n",
              "    <tr>\n",
              "      <th>1</th>\n",
              "      <td>0</td>\n",
              "      <td>1563650003</td>\n",
              "      <td>Sun Apr 19 23:40:17 PDT 2009</td>\n",
              "      <td>NO_QUERY</td>\n",
              "      <td>theroundup</td>\n",
              "      <td>Bawww I need a haircut  No1 could fit me in be...</td>\n",
              "    </tr>\n",
              "    <tr>\n",
              "      <th>2</th>\n",
              "      <td>0</td>\n",
              "      <td>1563650149</td>\n",
              "      <td>Sun Apr 19 23:40:20 PDT 2009</td>\n",
              "      <td>NO_QUERY</td>\n",
              "      <td>NorrinElizabeth</td>\n",
              "      <td>I need a new phone..... I also need to go to s...</td>\n",
              "    </tr>\n",
              "    <tr>\n",
              "      <th>3</th>\n",
              "      <td>0</td>\n",
              "      <td>1563650409</td>\n",
              "      <td>Sun Apr 19 23:40:22 PDT 2009</td>\n",
              "      <td>NO_QUERY</td>\n",
              "      <td>lovejenara</td>\n",
              "      <td>Once again I am up and energetic but also sad ...</td>\n",
              "    </tr>\n",
              "    <tr>\n",
              "      <th>4</th>\n",
              "      <td>0</td>\n",
              "      <td>1563650647</td>\n",
              "      <td>Sun Apr 19 23:40:25 PDT 2009</td>\n",
              "      <td>NO_QUERY</td>\n",
              "      <td>jennifergatc</td>\n",
              "      <td>Blah, time for bed I suppose. Seeing my friend...</td>\n",
              "    </tr>\n",
              "  </tbody>\n",
              "</table>\n",
              "</div>"
            ],
            "text/plain": [
              "   Label  ...                                               Text\n",
              "0      0  ...  i hate painting i have white paint all over my...\n",
              "1      0  ...  Bawww I need a haircut  No1 could fit me in be...\n",
              "2      0  ...  I need a new phone..... I also need to go to s...\n",
              "3      0  ...  Once again I am up and energetic but also sad ...\n",
              "4      0  ...  Blah, time for bed I suppose. Seeing my friend...\n",
              "\n",
              "[5 rows x 6 columns]"
            ]
          },
          "metadata": {
            "tags": []
          },
          "execution_count": 236
        }
      ]
    },
    {
      "cell_type": "code",
      "metadata": {
        "colab": {
          "base_uri": "https://localhost:8080/",
          "height": 204
        },
        "id": "W1METLGToem1",
        "outputId": "facf948e-a600-4a5c-bb72-8eef2aaa2053"
      },
      "source": [
        "data.tail()"
      ],
      "execution_count": null,
      "outputs": [
        {
          "output_type": "execute_result",
          "data": {
            "text/html": [
              "<div>\n",
              "<style scoped>\n",
              "    .dataframe tbody tr th:only-of-type {\n",
              "        vertical-align: middle;\n",
              "    }\n",
              "\n",
              "    .dataframe tbody tr th {\n",
              "        vertical-align: top;\n",
              "    }\n",
              "\n",
              "    .dataframe thead th {\n",
              "        text-align: right;\n",
              "    }\n",
              "</style>\n",
              "<table border=\"1\" class=\"dataframe\">\n",
              "  <thead>\n",
              "    <tr style=\"text-align: right;\">\n",
              "      <th></th>\n",
              "      <th>Label</th>\n",
              "      <th>Time</th>\n",
              "      <th>Date</th>\n",
              "      <th>Query</th>\n",
              "      <th>Username</th>\n",
              "      <th>Text</th>\n",
              "    </tr>\n",
              "  </thead>\n",
              "  <tbody>\n",
              "    <tr>\n",
              "      <th>9995</th>\n",
              "      <td>4</td>\n",
              "      <td>2176149708</td>\n",
              "      <td>Mon Jun 15 03:03:22 PDT 2009</td>\n",
              "      <td>NO_QUERY</td>\n",
              "      <td>waldyrious</td>\n",
              "      <td>@linkibol let me know if you do, I'm curious a...</td>\n",
              "    </tr>\n",
              "    <tr>\n",
              "      <th>9996</th>\n",
              "      <td>4</td>\n",
              "      <td>2176149718</td>\n",
              "      <td>Mon Jun 15 03:03:22 PDT 2009</td>\n",
              "      <td>NO_QUERY</td>\n",
              "      <td>amymc09</td>\n",
              "      <td>@shontelle_layne fans need 2 gt goin nd start ...</td>\n",
              "    </tr>\n",
              "    <tr>\n",
              "      <th>9997</th>\n",
              "      <td>4</td>\n",
              "      <td>2176149762</td>\n",
              "      <td>Mon Jun 15 03:03:22 PDT 2009</td>\n",
              "      <td>NO_QUERY</td>\n",
              "      <td>mememegann</td>\n",
              "      <td>any shops here we could try get GK in?</td>\n",
              "    </tr>\n",
              "    <tr>\n",
              "      <th>9998</th>\n",
              "      <td>4</td>\n",
              "      <td>2176149915</td>\n",
              "      <td>Mon Jun 15 03:03:24 PDT 2009</td>\n",
              "      <td>NO_QUERY</td>\n",
              "      <td>CompTIA_CIO</td>\n",
              "      <td>@BrianBlanchard Look at the last 4 hours of Tw...</td>\n",
              "    </tr>\n",
              "    <tr>\n",
              "      <th>9999</th>\n",
              "      <td>4</td>\n",
              "      <td>2176149960</td>\n",
              "      <td>Mon Jun 15 03:03:25 PDT 2009</td>\n",
              "      <td>NO_QUERY</td>\n",
              "      <td>barbzz23</td>\n",
              "      <td>@PETES_WORLD I'm certainly not</td>\n",
              "    </tr>\n",
              "  </tbody>\n",
              "</table>\n",
              "</div>"
            ],
            "text/plain": [
              "      Label  ...                                               Text\n",
              "9995      4  ...  @linkibol let me know if you do, I'm curious a...\n",
              "9996      4  ...  @shontelle_layne fans need 2 gt goin nd start ...\n",
              "9997      4  ...            any shops here we could try get GK in? \n",
              "9998      4  ...  @BrianBlanchard Look at the last 4 hours of Tw...\n",
              "9999      4  ...                    @PETES_WORLD I'm certainly not \n",
              "\n",
              "[5 rows x 6 columns]"
            ]
          },
          "metadata": {
            "tags": []
          },
          "execution_count": 237
        }
      ]
    },
    {
      "cell_type": "code",
      "metadata": {
        "colab": {
          "base_uri": "https://localhost:8080/"
        },
        "id": "MyBu3bpMolzV",
        "outputId": "2c6bb0c8-25cb-4ecd-fde7-a4c83c347134"
      },
      "source": [
        "data.columns"
      ],
      "execution_count": null,
      "outputs": [
        {
          "output_type": "execute_result",
          "data": {
            "text/plain": [
              "Index(['Label', 'Time', 'Date', 'Query', 'Username', 'Text'], dtype='object')"
            ]
          },
          "metadata": {
            "tags": []
          },
          "execution_count": 238
        }
      ]
    },
    {
      "cell_type": "code",
      "metadata": {
        "colab": {
          "base_uri": "https://localhost:8080/"
        },
        "id": "WI80Nyx7ovOD",
        "outputId": "4b1e5f21-2ddf-458e-f7f1-ebbbf63c7190"
      },
      "source": [
        "len(data)"
      ],
      "execution_count": null,
      "outputs": [
        {
          "output_type": "execute_result",
          "data": {
            "text/plain": [
              "10000"
            ]
          },
          "metadata": {
            "tags": []
          },
          "execution_count": 240
        }
      ]
    },
    {
      "cell_type": "code",
      "metadata": {
        "colab": {
          "base_uri": "https://localhost:8080/"
        },
        "id": "1H25Mwg7oxzs",
        "outputId": "d421836f-7856-4f51-cdca-548f82c60e5e"
      },
      "source": [
        "data.shape"
      ],
      "execution_count": null,
      "outputs": [
        {
          "output_type": "execute_result",
          "data": {
            "text/plain": [
              "(10000, 6)"
            ]
          },
          "metadata": {
            "tags": []
          },
          "execution_count": 241
        }
      ]
    },
    {
      "cell_type": "code",
      "metadata": {
        "colab": {
          "base_uri": "https://localhost:8080/"
        },
        "id": "aYD3UNjWo2fE",
        "outputId": "d7828878-78d6-473e-f40e-0de03656d620"
      },
      "source": [
        "data.info()"
      ],
      "execution_count": null,
      "outputs": [
        {
          "output_type": "stream",
          "text": [
            "<class 'pandas.core.frame.DataFrame'>\n",
            "RangeIndex: 10000 entries, 0 to 9999\n",
            "Data columns (total 6 columns):\n",
            " #   Column    Non-Null Count  Dtype \n",
            "---  ------    --------------  ----- \n",
            " 0   Label     10000 non-null  int64 \n",
            " 1   Time      10000 non-null  int64 \n",
            " 2   Date      10000 non-null  object\n",
            " 3   Query     10000 non-null  object\n",
            " 4   Username  10000 non-null  object\n",
            " 5   Text      10000 non-null  object\n",
            "dtypes: int64(2), object(4)\n",
            "memory usage: 468.9+ KB\n"
          ],
          "name": "stdout"
        }
      ]
    },
    {
      "cell_type": "code",
      "metadata": {
        "colab": {
          "base_uri": "https://localhost:8080/"
        },
        "id": "e8eq3oFgo9B9",
        "outputId": "43126103-4097-46fd-ea89-9a580baf7d78"
      },
      "source": [
        "data.dtypes"
      ],
      "execution_count": null,
      "outputs": [
        {
          "output_type": "execute_result",
          "data": {
            "text/plain": [
              "Label        int64\n",
              "Time         int64\n",
              "Date        object\n",
              "Query       object\n",
              "Username    object\n",
              "Text        object\n",
              "dtype: object"
            ]
          },
          "metadata": {
            "tags": []
          },
          "execution_count": 243
        }
      ]
    },
    {
      "cell_type": "code",
      "metadata": {
        "colab": {
          "base_uri": "https://localhost:8080/"
        },
        "id": "OueOy5GVpD4N",
        "outputId": "e23bc5d9-6906-4603-d2fc-7db41635fb17"
      },
      "source": [
        "np.sum(data.isnull().any(axis=1))"
      ],
      "execution_count": null,
      "outputs": [
        {
          "output_type": "execute_result",
          "data": {
            "text/plain": [
              "0"
            ]
          },
          "metadata": {
            "tags": []
          },
          "execution_count": 244
        }
      ]
    },
    {
      "cell_type": "code",
      "metadata": {
        "id": "kXupceFKpZrd"
      },
      "source": [
        "data= data[['Text', 'Label']]"
      ],
      "execution_count": null,
      "outputs": []
    },
    {
      "cell_type": "code",
      "metadata": {
        "id": "nTY-KiBpqALP"
      },
      "source": [
        "data['Label'][data['Label']==4]=1"
      ],
      "execution_count": null,
      "outputs": []
    },
    {
      "cell_type": "code",
      "metadata": {
        "id": "jVBJp1gEqXal"
      },
      "source": [
        "data_pos= data[data['Label']==1]\n",
        "data_neg= data[data['Label']==0]"
      ],
      "execution_count": null,
      "outputs": []
    },
    {
      "cell_type": "code",
      "metadata": {
        "id": "k_vdIToRq0-X"
      },
      "source": [
        "data_pos=data_pos.iloc[:int(5000)]\n",
        "data_neg=data_neg.iloc[:int(5000)]"
      ],
      "execution_count": null,
      "outputs": []
    },
    {
      "cell_type": "code",
      "metadata": {
        "id": "sot3PIq_rFWY"
      },
      "source": [
        "data = pd.concat([data_pos, data_neg])"
      ],
      "execution_count": null,
      "outputs": []
    },
    {
      "cell_type": "code",
      "metadata": {
        "id": "CQUHwvm_rb4Y"
      },
      "source": [
        "data['Text']=data['Text'].str.lower()"
      ],
      "execution_count": null,
      "outputs": []
    },
    {
      "cell_type": "code",
      "metadata": {
        "colab": {
          "base_uri": "https://localhost:8080/"
        },
        "id": "Raom87K9skQQ",
        "outputId": "0da8256d-fe4c-41f3-b9ea-56d0bc7bb024"
      },
      "source": [
        "import nltk\n",
        "nltk.download('stopwords')"
      ],
      "execution_count": null,
      "outputs": [
        {
          "output_type": "stream",
          "text": [
            "[nltk_data] Downloading package stopwords to /root/nltk_data...\n",
            "[nltk_data]   Package stopwords is already up-to-date!\n"
          ],
          "name": "stdout"
        },
        {
          "output_type": "execute_result",
          "data": {
            "text/plain": [
              "True"
            ]
          },
          "metadata": {
            "tags": []
          },
          "execution_count": 251
        }
      ]
    },
    {
      "cell_type": "code",
      "metadata": {
        "id": "AQO5fu9zrn0H"
      },
      "source": [
        "stopwords_list= stopwords.words('english')"
      ],
      "execution_count": null,
      "outputs": []
    },
    {
      "cell_type": "code",
      "metadata": {
        "colab": {
          "base_uri": "https://localhost:8080/",
          "height": 140
        },
        "id": "GZx6rJjAsrki",
        "outputId": "d59ec59d-4b93-4b2c-d82a-e71529040f64"
      },
      "source": [
        "\", \".join(stopwords.words('english'))"
      ],
      "execution_count": null,
      "outputs": [
        {
          "output_type": "execute_result",
          "data": {
            "application/vnd.google.colaboratory.intrinsic+json": {
              "type": "string"
            },
            "text/plain": [
              "\"i, me, my, myself, we, our, ours, ourselves, you, you're, you've, you'll, you'd, your, yours, yourself, yourselves, he, him, his, himself, she, she's, her, hers, herself, it, it's, its, itself, they, them, their, theirs, themselves, what, which, who, whom, this, that, that'll, these, those, am, is, are, was, were, be, been, being, have, has, had, having, do, does, did, doing, a, an, the, and, but, if, or, because, as, until, while, of, at, by, for, with, about, against, between, into, through, during, before, after, above, below, to, from, up, down, in, out, on, off, over, under, again, further, then, once, here, there, when, where, why, how, all, any, both, each, few, more, most, other, some, such, no, nor, not, only, own, same, so, than, too, very, s, t, can, will, just, don, don't, should, should've, now, d, ll, m, o, re, ve, y, ain, aren, aren't, couldn, couldn't, didn, didn't, doesn, doesn't, hadn, hadn't, hasn, hasn't, haven, haven't, isn, isn't, ma, mightn, mightn't, mustn, mustn't, needn, needn't, shan, shan't, shouldn, shouldn't, wasn, wasn't, weren, weren't, won, won't, wouldn, wouldn't\""
            ]
          },
          "metadata": {
            "tags": []
          },
          "execution_count": 253
        }
      ]
    },
    {
      "cell_type": "code",
      "metadata": {
        "colab": {
          "base_uri": "https://localhost:8080/"
        },
        "id": "Mq0q9SJEuGpI",
        "outputId": "b3fc6852-80f8-49a6-848b-570eaa9a8add"
      },
      "source": [
        "STOPWORDS = set(stopwords.words('english'))\n",
        "def cleaning_stopwords(text):\n",
        "  return \" \".join([word for word in str(text).split() if word not in STOPWORDS])\n",
        "data['Text']=data['Text'].apply(lambda text: cleaning_stopwords(text))\n",
        "data['Text'].head()"
      ],
      "execution_count": null,
      "outputs": [
        {
          "output_type": "execute_result",
          "data": {
            "text/plain": [
              "5000    making biography adolf hitler. writing assessm...\n",
              "5001                          @mavindigital much welcome.\n",
              "5002            @michaelmagical adding myspace huh?thanks\n",
              "5003    rdb + akshay = fantastic music. kareena kapoor...\n",
              "5004    really really good long talk thanh! cool yo! k...\n",
              "Name: Text, dtype: object"
            ]
          },
          "metadata": {
            "tags": []
          },
          "execution_count": 254
        }
      ]
    },
    {
      "cell_type": "code",
      "metadata": {
        "id": "OJ0D82wxvjWN"
      },
      "source": [
        "english_punctuations = string.punctuation\n",
        "punctuations_list = english_punctuations\n",
        "def cleaning_punctuations(text):\n",
        "  translator= str.maketrans('','',punctuations_list)\n",
        "  return text.translate(translator)"
      ],
      "execution_count": null,
      "outputs": []
    },
    {
      "cell_type": "code",
      "metadata": {
        "colab": {
          "base_uri": "https://localhost:8080/"
        },
        "id": "uVBpCE93wm3M",
        "outputId": "92725eb0-b70c-429f-fb6a-057f61782914"
      },
      "source": [
        "data['Text']=data['Text'].apply(lambda text: cleaning_punctuations(text))\n",
        "data['Text'].tail()"
      ],
      "execution_count": null,
      "outputs": [
        {
          "output_type": "execute_result",
          "data": {
            "text/plain": [
              "4995    oh joy back wonderful �home� full happiness fr...\n",
              "4996                      another day yet nothing changed\n",
              "4997    really really really wants enroll online desig...\n",
              "4998         smokedrinkdrive really hope dont drink drive\n",
              "4999                                bems come back berlin\n",
              "Name: Text, dtype: object"
            ]
          },
          "metadata": {
            "tags": []
          },
          "execution_count": 256
        }
      ]
    },
    {
      "cell_type": "code",
      "metadata": {
        "id": "ymOBvKagw25U"
      },
      "source": [
        "def cleaning_repeating_char(text):\n",
        "  return re.sub(r'(.)\\1+', r'\\1', text)"
      ],
      "execution_count": null,
      "outputs": []
    },
    {
      "cell_type": "code",
      "metadata": {
        "colab": {
          "base_uri": "https://localhost:8080/"
        },
        "id": "QDDw489jxlFd",
        "outputId": "ae5deb23-27ca-427d-eec1-fb10522ceaa2"
      },
      "source": [
        "data['Text']=data['Text'].apply(lambda text: cleaning_repeating_char(text))\n",
        "data['Text'].tail()"
      ],
      "execution_count": null,
      "outputs": [
        {
          "output_type": "execute_result",
          "data": {
            "text/plain": [
              "4995    oh joy back wonderful �home� ful hapines fre d...\n",
              "4996                      another day yet nothing changed\n",
              "4997    realy realy realy wants enrol online design in...\n",
              "4998          smokedrinkdrive realy hope dont drink drive\n",
              "4999                                bems come back berlin\n",
              "Name: Text, dtype: object"
            ]
          },
          "metadata": {
            "tags": []
          },
          "execution_count": 258
        }
      ]
    },
    {
      "cell_type": "code",
      "metadata": {
        "id": "zEQ0XvUvxqsz"
      },
      "source": [
        "def cleaning_email(data):\n",
        "  return re.sub('@[^\\s]+', ' ', data)"
      ],
      "execution_count": null,
      "outputs": []
    },
    {
      "cell_type": "code",
      "metadata": {
        "colab": {
          "base_uri": "https://localhost:8080/"
        },
        "id": "0HaD_vI1yVI_",
        "outputId": "a96f139b-60d3-4104-d092-89f3e155a2c4"
      },
      "source": [
        "data['Text']=data['Text'].apply(lambda x: cleaning_email(x))\n",
        "data['Text'].tail()"
      ],
      "execution_count": null,
      "outputs": [
        {
          "output_type": "execute_result",
          "data": {
            "text/plain": [
              "4995    oh joy back wonderful �home� ful hapines fre d...\n",
              "4996                      another day yet nothing changed\n",
              "4997    realy realy realy wants enrol online design in...\n",
              "4998          smokedrinkdrive realy hope dont drink drive\n",
              "4999                                bems come back berlin\n",
              "Name: Text, dtype: object"
            ]
          },
          "metadata": {
            "tags": []
          },
          "execution_count": 260
        }
      ]
    },
    {
      "cell_type": "code",
      "metadata": {
        "id": "z5byfvuAyxp2"
      },
      "source": [
        "def cleaning_URLs(data):\n",
        "  return re.sub('((www\\.[^s]+)|(https?://[^s]+))', ' ', data)"
      ],
      "execution_count": null,
      "outputs": []
    },
    {
      "cell_type": "code",
      "metadata": {
        "colab": {
          "base_uri": "https://localhost:8080/"
        },
        "id": "1YsJBD000hMQ",
        "outputId": "2325c85b-62b0-41f2-d008-d592bc0b9706"
      },
      "source": [
        "data['Text']=data['Text'].apply(lambda x: cleaning_URLs(x))\n",
        "data['Text'].tail()"
      ],
      "execution_count": null,
      "outputs": [
        {
          "output_type": "execute_result",
          "data": {
            "text/plain": [
              "4995    oh joy back wonderful �home� ful hapines fre d...\n",
              "4996                      another day yet nothing changed\n",
              "4997    realy realy realy wants enrol online design in...\n",
              "4998          smokedrinkdrive realy hope dont drink drive\n",
              "4999                                bems come back berlin\n",
              "Name: Text, dtype: object"
            ]
          },
          "metadata": {
            "tags": []
          },
          "execution_count": 262
        }
      ]
    },
    {
      "cell_type": "code",
      "metadata": {
        "id": "8HCEGY7b0p-j"
      },
      "source": [
        "def cleaning_numbers(data):\n",
        "  return re.sub('[0-9]+', ' ', data)"
      ],
      "execution_count": null,
      "outputs": []
    },
    {
      "cell_type": "code",
      "metadata": {
        "colab": {
          "base_uri": "https://localhost:8080/"
        },
        "id": "ihMVmEpl1ECh",
        "outputId": "d25a834c-06e8-48d4-d26d-da237e5a767b"
      },
      "source": [
        "data['Text']=data['Text'].apply(lambda x: cleaning_numbers(x))\n",
        "data['Text'].tail()"
      ],
      "execution_count": null,
      "outputs": [
        {
          "output_type": "execute_result",
          "data": {
            "text/plain": [
              "4995    oh joy back wonderful �home� ful hapines fre d...\n",
              "4996                      another day yet nothing changed\n",
              "4997    realy realy realy wants enrol online design in...\n",
              "4998          smokedrinkdrive realy hope dont drink drive\n",
              "4999                                bems come back berlin\n",
              "Name: Text, dtype: object"
            ]
          },
          "metadata": {
            "tags": []
          },
          "execution_count": 264
        }
      ]
    },
    {
      "cell_type": "code",
      "metadata": {
        "id": "3OoSKvI71KcO"
      },
      "source": [
        "tokenizer = RegexpTokenizer(r'\\w+')\n",
        "data['Text']=data['Text'].apply(tokenizer.tokenize)"
      ],
      "execution_count": null,
      "outputs": []
    },
    {
      "cell_type": "code",
      "metadata": {
        "colab": {
          "base_uri": "https://localhost:8080/"
        },
        "id": "GysYk63W1ddo",
        "outputId": "23b39323-e754-4ac6-f961-4d0a7e840433"
      },
      "source": [
        "data['Text'].head()"
      ],
      "execution_count": null,
      "outputs": [
        {
          "output_type": "execute_result",
          "data": {
            "text/plain": [
              "5000    [making, biography, adolf, hitler, writing, as...\n",
              "5001                        [mavindigital, much, welcome]\n",
              "5002          [michaelmagical, ading, myspace, huhthanks]\n",
              "5003    [rdb, akshay, fantastic, music, karena, kapor,...\n",
              "5004    [realy, realy, god, long, talk, thanh, col, yo...\n",
              "Name: Text, dtype: object"
            ]
          },
          "metadata": {
            "tags": []
          },
          "execution_count": 266
        }
      ]
    },
    {
      "cell_type": "code",
      "metadata": {
        "id": "uyNS4eZs_x-s"
      },
      "source": [
        "X=data['Text']\n",
        "y=data['Label']"
      ],
      "execution_count": null,
      "outputs": []
    },
    {
      "cell_type": "code",
      "metadata": {
        "id": "t7kn2fzg_gUa"
      },
      "source": [
        "max_len = 500\n",
        "tok = Tokenizer(num_words=2000)\n",
        "tok.fit_on_texts(X)\n",
        "sequences = tok.texts_to_sequences(X)\n",
        "sequences_matrix = sequence.pad_sequences(sequences,maxlen=max_len)"
      ],
      "execution_count": null,
      "outputs": []
    },
    {
      "cell_type": "code",
      "metadata": {
        "id": "iDk5JCMaAG__"
      },
      "source": [
        "X_train, X_test, Y_train, Y_test = train_test_split(sequences_matrix, y, test_size=0.2, random_state=2)"
      ],
      "execution_count": null,
      "outputs": []
    },
    {
      "cell_type": "code",
      "metadata": {
        "id": "mc_CYN_cARha"
      },
      "source": [
        "def tensorflow_based_model(): #Defined tensorflow_based_model function for training tenforflow based model\n",
        "    inputs = Input(name='inputs',shape=[max_len])#step1\n",
        "    layer = Embedding(2000,50,input_length=max_len)(inputs) #step2\n",
        "    layer = LSTM(64)(layer) #step3\n",
        "    layer = Dense(256,name='FC1')(layer) #step4\n",
        "    layer = Activation('relu')(layer) # step5\n",
        "    layer = Dropout(0.5)(layer) # step6\n",
        "    layer = Dense(1,name='out_layer')(layer) #step4 again but this time its giving only one output as because we need to classify the tweet as positive or negative\n",
        "    layer = Activation('sigmoid')(layer) #step5 but this time activation function is sigmoid for only one output.\n",
        "    model = Model(inputs=inputs,outputs=layer) #here we are getting the final output value in the model for classification\n",
        "    return model #function returning the value when we call it\n",
        "\n",
        "    "
      ],
      "execution_count": null,
      "outputs": []
    },
    {
      "cell_type": "code",
      "metadata": {
        "id": "fJkDkRaJAd4s"
      },
      "source": [
        "model = tensorflow_based_model() # here we are calling the function of created model\n",
        "model.compile(loss='binary_crossentropy',optimizer=RMSprop(),metrics=['accuracy'])"
      ],
      "execution_count": null,
      "outputs": []
    },
    {
      "cell_type": "code",
      "metadata": {
        "colab": {
          "base_uri": "https://localhost:8080/"
        },
        "id": "zn47O2y7A2Wf",
        "outputId": "2a793a7e-d0da-4d99-dd9a-a0bf9f3814f7"
      },
      "source": [
        "history=model.fit(X_train,Y_train,batch_size=40,epochs=10, validation_split=0.2)# here we are starting the training of model by feeding the training data\n",
        "print('Training finished !!')"
      ],
      "execution_count": null,
      "outputs": [
        {
          "output_type": "stream",
          "text": [
            "Epoch 1/10\n",
            "160/160 [==============================] - 48s 292ms/step - loss: 0.6155 - accuracy: 0.6580 - val_loss: 0.5436 - val_accuracy: 0.7200\n",
            "Epoch 2/10\n",
            "160/160 [==============================] - 46s 290ms/step - loss: 0.4833 - accuracy: 0.7702 - val_loss: 0.5341 - val_accuracy: 0.7406\n",
            "Epoch 3/10\n",
            "160/160 [==============================] - 46s 288ms/step - loss: 0.4404 - accuracy: 0.7981 - val_loss: 0.5416 - val_accuracy: 0.7456\n",
            "Epoch 4/10\n",
            "160/160 [==============================] - 46s 289ms/step - loss: 0.4339 - accuracy: 0.8080 - val_loss: 0.5396 - val_accuracy: 0.7350\n",
            "Epoch 5/10\n",
            "160/160 [==============================] - 46s 289ms/step - loss: 0.4160 - accuracy: 0.8208 - val_loss: 0.5685 - val_accuracy: 0.7262\n",
            "Epoch 6/10\n",
            "160/160 [==============================] - 46s 289ms/step - loss: 0.4102 - accuracy: 0.8206 - val_loss: 0.6354 - val_accuracy: 0.6913\n",
            "Epoch 7/10\n",
            "160/160 [==============================] - 46s 289ms/step - loss: 0.3842 - accuracy: 0.8345 - val_loss: 0.5673 - val_accuracy: 0.7212\n",
            "Epoch 8/10\n",
            "160/160 [==============================] - 47s 291ms/step - loss: 0.3696 - accuracy: 0.8402 - val_loss: 0.5766 - val_accuracy: 0.7269\n",
            "Epoch 9/10\n",
            "160/160 [==============================] - 46s 287ms/step - loss: 0.3798 - accuracy: 0.8423 - val_loss: 0.5914 - val_accuracy: 0.7231\n",
            "Epoch 10/10\n",
            "160/160 [==============================] - 46s 289ms/step - loss: 0.3663 - accuracy: 0.8486 - val_loss: 0.6126 - val_accuracy: 0.7194\n",
            "Training finished !!\n"
          ],
          "name": "stdout"
        }
      ]
    },
    {
      "cell_type": "code",
      "metadata": {
        "colab": {
          "base_uri": "https://localhost:8080/"
        },
        "id": "9UkrMI3SXxbz",
        "outputId": "42c7bb26-ea61-4511-8c73-7fd7b652dc41"
      },
      "source": [
        "score1 = model.evaluate(X_test,Y_test) #we are starting to test the model here"
      ],
      "execution_count": null,
      "outputs": [
        {
          "output_type": "stream",
          "text": [
            "63/63 [==============================] - 4s 61ms/step - loss: 0.5971 - accuracy: 0.7430\n"
          ],
          "name": "stdout"
        }
      ]
    },
    {
      "cell_type": "code",
      "metadata": {
        "colab": {
          "base_uri": "https://localhost:8080/"
        },
        "id": "SVBF-OEkb1G-",
        "outputId": "5728e20e-f6bd-42d6-82e9-463a802474cb"
      },
      "source": [
        "print(\"Test Set\\n Accuracy: {:0.2f}\".format(score1[1]))"
      ],
      "execution_count": null,
      "outputs": [
        {
          "output_type": "stream",
          "text": [
            "Test Set\n",
            " Accuracy: 0.73\n"
          ],
          "name": "stdout"
        }
      ]
    },
    {
      "cell_type": "code",
      "metadata": {
        "id": "TW1XeYUPQSIG"
      },
      "source": [
        "y_pred=model.predict(X_test)\n",
        "y_pred=(y_pred > 0.5)"
      ],
      "execution_count": null,
      "outputs": []
    },
    {
      "cell_type": "code",
      "metadata": {
        "id": "IAerHIWyZX0K",
        "colab": {
          "base_uri": "https://localhost:8080/",
          "height": 727
        },
        "outputId": "18436b47-a44e-49fd-c6ea-b1fe82c6bb7a"
      },
      "source": [
        "print('\\n')\n",
        "print(\"Confusion Matrix\")\n",
        "print('\\n')\n",
        "CR = confusion_matrix(Y_test, y_pred)\n",
        "print(CR)\n",
        "print('\\n')\n",
        "\n",
        "fig, ax = plot_confusion_matrix(conf_mat=CR, figsize=(10,10),  show_absolute=True, show_normed=True, colorbar=True)"
      ],
      "execution_count": null,
      "outputs": [
        {
          "output_type": "stream",
          "text": [
            "\n",
            "\n",
            "Confusion Matrix\n",
            "\n",
            "\n",
            "[[745 255]\n",
            " [259 741]]\n",
            "\n",
            "\n"
          ],
          "name": "stdout"
        },
        {
          "output_type": "display_data",
          "data": {
            "image/png": "[encoded data removed]",
            "text/plain": [
              "<Figure size 720x720 with 2 Axes>"
            ]
          },
          "metadata": {
            "tags": [],
            "needs_background": "light"
          }
        }
      ]
    },
    {
      "cell_type": "code",
      "metadata": {
        "colab": {
          "base_uri": "https://localhost:8080/"
        },
        "id": "OCRBViLc9yTy",
        "outputId": "6e1bd84a-215c-4a03-ff92-6d51b448fa6e"
      },
      "source": [
        "from sklearn.ensemble import RandomForestClassifier    \n",
        "clf=RandomForestClassifier(n_estimators=50)\n",
        "clf.fit(X_train,Y_train)\n"
      ],
      "execution_count": null,
      "outputs": [
        {
          "output_type": "execute_result",
          "data": {
            "text/plain": [
              "RandomForestClassifier(bootstrap=True, ccp_alpha=0.0, class_weight=None,\n",
              "                       criterion='gini', max_depth=None, max_features='auto',\n",
              "                       max_leaf_nodes=None, max_samples=None,\n",
              "                       min_impurity_decrease=0.0, min_impurity_split=None,\n",
              "                       min_samples_leaf=1, min_samples_split=2,\n",
              "                       min_weight_fraction_leaf=0.0, n_estimators=50,\n",
              "                       n_jobs=None, oob_score=False, random_state=None,\n",
              "                       verbose=0, warm_start=False)"
            ]
          },
          "metadata": {
            "tags": []
          },
          "execution_count": 293
        }
      ]
    },
    {
      "cell_type": "code",
      "metadata": {
        "colab": {
          "base_uri": "https://localhost:8080/"
        },
        "id": "-3i2AIwMQ8cF",
        "outputId": "6f56b832-aad5-4585-f9ed-00aa45f00465"
      },
      "source": [
        "pred2 = clf.predict(X_test)\n",
        "pred2 = (pred2 > 0.5)\n",
        "print(pred2)\n",
        "from sklearn import metrics\n",
        "score2 = metrics.accuracy_score(Y_test, pred2)\n",
        "print(\"Accuracy of RandomForest on test data is:\", score2)"
      ],
      "execution_count": null,
      "outputs": [
        {
          "output_type": "stream",
          "text": [
            "[False  True False ... False False False]\n",
            "Accuracy of RandomForest on test data is: 0.5845\n"
          ],
          "name": "stdout"
        }
      ]
    },
    {
      "cell_type": "code",
      "metadata": {
        "colab": {
          "base_uri": "https://localhost:8080/",
          "height": 734
        },
        "id": "p3qOEVLPRLBt",
        "outputId": "00d02615-6669-4e5e-c529-0eb2a793ad45"
      },
      "source": [
        "print('\\n')\n",
        "print(\"Confusion Matrix\")\n",
        "print('\\n')\n",
        "CR = confusion_matrix(Y_test, pred2)\n",
        "print(CR)\n",
        "print('\\n')\n",
        "\n",
        "fig, ax = plot_confusion_matrix(conf_mat=CR, figsize=(10,10),  show_absolute=True, show_normed=True, colorbar=True)"
      ],
      "execution_count": null,
      "outputs": [
        {
          "output_type": "stream",
          "text": [
            "\n",
            "\n",
            "Confusion Matrix\n",
            "\n",
            "\n",
            "[[651 349]\n",
            " [482 518]]\n",
            "\n",
            "\n"
          ],
          "name": "stdout"
        },
        {
          "output_type": "display_data",
          "data": {
            "image/png": "[encoded data removed]",
            "text/plain": [
              "<Figure size 720x720 with 2 Axes>"
            ]
          },
          "metadata": {
            "tags": [],
            "needs_background": "light"
          }
        }
      ]
    },
    {
      "cell_type": "code",
      "metadata": {
        "id": "whuz7qLgchb8"
      },
      "source": [
        "from tensorflow.keras.layers import Dense\n",
        "from tensorflow.keras.models import Sequential\n",
        "from tensorflow.keras.layers import Flatten\n",
        "from tensorflow.keras.optimizers import Adam\n",
        "from keras.callbacks import EarlyStopping\n",
        "from keras.callbacks import ModelCheckpoint\n",
        "from sklearn.model_selection import train_test_split"
      ],
      "execution_count": null,
      "outputs": []
    },
    {
      "cell_type": "code",
      "metadata": {
        "colab": {
          "base_uri": "https://localhost:8080/"
        },
        "id": "q_1GvCFqWrVt",
        "outputId": "334e6805-371b-464e-ca16-5588ea299ac3"
      },
      "source": [
        "from keras.layers import LeakyReLU\n",
        "model3 = Sequential()\n",
        "model3.add(Dense(300, input_dim=500, activation='relu'))\n",
        "model3.add(LeakyReLU(alpha=0.05))\n",
        "model3.add(Dense(320, activation='relu'))\n",
        "model3.add(LeakyReLU(alpha=0.05))\n",
        "model3.add(Dense(240, activation='relu'))\n",
        "model3.add(Dense(1,activation='sigmoid'))\n",
        "\n",
        "model3.compile(Adam(lr=0.01), loss = \"binary_crossentropy\", metrics = ['accuracy'])\n",
        "\n",
        "print(model3.summary())"
      ],
      "execution_count": null,
      "outputs": [
        {
          "output_type": "stream",
          "text": [
            "Model: \"sequential_13\"\n",
            "_________________________________________________________________\n",
            "Layer (type)                 Output Shape              Param #   \n",
            "=================================================================\n",
            "dense_52 (Dense)             (None, 300)               150300    \n",
            "_________________________________________________________________\n",
            "module_wrapper_4 (ModuleWrap (None, 300)               0         \n",
            "_________________________________________________________________\n",
            "dense_53 (Dense)             (None, 320)               96320     \n",
            "_________________________________________________________________\n",
            "module_wrapper_5 (ModuleWrap (None, 320)               0         \n",
            "_________________________________________________________________\n",
            "dense_54 (Dense)             (None, 240)               77040     \n",
            "_________________________________________________________________\n",
            "dense_55 (Dense)             (None, 1)                 241       \n",
            "=================================================================\n",
            "Total params: 323,901\n",
            "Trainable params: 323,901\n",
            "Non-trainable params: 0\n",
            "_________________________________________________________________\n",
            "None\n"
          ],
          "name": "stdout"
        }
      ]
    },
    {
      "cell_type": "code",
      "metadata": {
        "colab": {
          "base_uri": "https://localhost:8080/"
        },
        "id": "6KvjJFJFdIkM",
        "outputId": "6abfe84f-1dbc-4de3-a47d-273977b0f4dc"
      },
      "source": [
        "X_train, X_test, Y_train, Y_test = train_test_split(sequences_matrix, y, test_size=0.2, random_state=2)\n",
        "\n",
        "X_train=np.asarray(X_train).astype(np.float32)\n",
        "\n",
        "Y_train=np.asarray(Y_train).astype(np.float32)\n",
        "\n",
        "X_test=np.asarray(X_test).astype(np.float32)\n",
        "\n",
        "Y_test=np.asarray(Y_test).astype(np.float32)\n",
        "\n",
        "history = model3.fit(X_train, Y_train, validation_split= 0.10, epochs = 50, verbose = 1, batch_size= 100)"
      ],
      "execution_count": null,
      "outputs": [
        {
          "output_type": "stream",
          "text": [
            "Epoch 1/50\n",
            "72/72 [==============================] - 1s 11ms/step - loss: 10.7395 - accuracy: 0.5019 - val_loss: 0.7009 - val_accuracy: 0.5088\n",
            "Epoch 2/50\n",
            "72/72 [==============================] - 1s 9ms/step - loss: 0.7007 - accuracy: 0.5135 - val_loss: 0.7068 - val_accuracy: 0.4837\n",
            "Epoch 3/50\n",
            "72/72 [==============================] - 1s 9ms/step - loss: 0.7022 - accuracy: 0.5018 - val_loss: 0.7066 - val_accuracy: 0.4863\n",
            "Epoch 4/50\n",
            "72/72 [==============================] - 1s 9ms/step - loss: 0.6956 - accuracy: 0.5093 - val_loss: 0.6937 - val_accuracy: 0.4988\n",
            "Epoch 5/50\n",
            "72/72 [==============================] - 1s 8ms/step - loss: 0.6959 - accuracy: 0.5089 - val_loss: 0.6947 - val_accuracy: 0.5025\n",
            "Epoch 6/50\n",
            "72/72 [==============================] - 1s 9ms/step - loss: 0.6933 - accuracy: 0.5153 - val_loss: 0.7182 - val_accuracy: 0.4787\n",
            "Epoch 7/50\n",
            "72/72 [==============================] - 1s 9ms/step - loss: 0.7013 - accuracy: 0.5171 - val_loss: 0.6939 - val_accuracy: 0.5125\n",
            "Epoch 8/50\n",
            "72/72 [==============================] - 1s 8ms/step - loss: 0.6946 - accuracy: 0.5113 - val_loss: 0.6936 - val_accuracy: 0.4913\n",
            "Epoch 9/50\n",
            "72/72 [==============================] - 1s 8ms/step - loss: 0.6934 - accuracy: 0.5135 - val_loss: 0.6933 - val_accuracy: 0.4913\n",
            "Epoch 10/50\n",
            "72/72 [==============================] - 1s 9ms/step - loss: 0.6921 - accuracy: 0.5139 - val_loss: 0.6916 - val_accuracy: 0.5125\n",
            "Epoch 11/50\n",
            "72/72 [==============================] - 1s 9ms/step - loss: 0.6965 - accuracy: 0.5026 - val_loss: 0.6951 - val_accuracy: 0.5025\n",
            "Epoch 12/50\n",
            "72/72 [==============================] - 1s 9ms/step - loss: 0.6917 - accuracy: 0.5213 - val_loss: 0.6935 - val_accuracy: 0.5188\n",
            "Epoch 13/50\n",
            "72/72 [==============================] - 1s 9ms/step - loss: 0.6927 - accuracy: 0.5101 - val_loss: 0.6915 - val_accuracy: 0.5225\n",
            "Epoch 14/50\n",
            "72/72 [==============================] - 1s 8ms/step - loss: 0.7032 - accuracy: 0.4918 - val_loss: 0.7026 - val_accuracy: 0.5163\n",
            "Epoch 15/50\n",
            "72/72 [==============================] - 1s 8ms/step - loss: 0.6982 - accuracy: 0.4963 - val_loss: 0.6917 - val_accuracy: 0.5288\n",
            "Epoch 16/50\n",
            "72/72 [==============================] - 1s 9ms/step - loss: 0.6950 - accuracy: 0.5107 - val_loss: 0.6940 - val_accuracy: 0.4850\n",
            "Epoch 17/50\n",
            "72/72 [==============================] - 1s 9ms/step - loss: 0.6945 - accuracy: 0.4918 - val_loss: 0.6925 - val_accuracy: 0.5213\n",
            "Epoch 18/50\n",
            "72/72 [==============================] - 1s 8ms/step - loss: 0.6927 - accuracy: 0.4956 - val_loss: 0.6931 - val_accuracy: 0.4825\n",
            "Epoch 19/50\n",
            "72/72 [==============================] - 1s 9ms/step - loss: 0.6927 - accuracy: 0.5014 - val_loss: 0.6923 - val_accuracy: 0.5238\n",
            "Epoch 20/50\n",
            "72/72 [==============================] - 1s 8ms/step - loss: 0.6928 - accuracy: 0.4989 - val_loss: 0.6938 - val_accuracy: 0.4825\n",
            "Epoch 21/50\n",
            "72/72 [==============================] - 1s 8ms/step - loss: 0.6927 - accuracy: 0.4946 - val_loss: 0.6933 - val_accuracy: 0.4825\n",
            "Epoch 22/50\n",
            "72/72 [==============================] - 1s 9ms/step - loss: 0.6923 - accuracy: 0.5124 - val_loss: 0.6932 - val_accuracy: 0.5225\n",
            "Epoch 23/50\n",
            "72/72 [==============================] - 1s 8ms/step - loss: 0.6921 - accuracy: 0.5157 - val_loss: 0.6935 - val_accuracy: 0.4825\n",
            "Epoch 24/50\n",
            "72/72 [==============================] - 1s 9ms/step - loss: 0.6930 - accuracy: 0.5017 - val_loss: 0.6925 - val_accuracy: 0.5238\n",
            "Epoch 25/50\n",
            "72/72 [==============================] - 1s 9ms/step - loss: 0.6930 - accuracy: 0.4954 - val_loss: 0.6920 - val_accuracy: 0.5263\n",
            "Epoch 26/50\n",
            "72/72 [==============================] - 1s 8ms/step - loss: 0.6927 - accuracy: 0.5131 - val_loss: 0.6945 - val_accuracy: 0.4837\n",
            "Epoch 27/50\n",
            "72/72 [==============================] - 1s 9ms/step - loss: 0.6927 - accuracy: 0.4996 - val_loss: 0.6931 - val_accuracy: 0.4825\n",
            "Epoch 28/50\n",
            "72/72 [==============================] - 1s 9ms/step - loss: 0.6925 - accuracy: 0.5006 - val_loss: 0.6924 - val_accuracy: 0.5263\n",
            "Epoch 29/50\n",
            "72/72 [==============================] - 1s 9ms/step - loss: 0.6919 - accuracy: 0.5136 - val_loss: 0.6919 - val_accuracy: 0.5188\n",
            "Epoch 30/50\n",
            "72/72 [==============================] - 1s 9ms/step - loss: 0.6925 - accuracy: 0.5172 - val_loss: 0.6923 - val_accuracy: 0.5300\n",
            "Epoch 31/50\n",
            "72/72 [==============================] - 1s 8ms/step - loss: 0.6928 - accuracy: 0.5021 - val_loss: 0.6936 - val_accuracy: 0.4837\n",
            "Epoch 32/50\n",
            "72/72 [==============================] - 1s 9ms/step - loss: 0.6924 - accuracy: 0.4993 - val_loss: 0.6910 - val_accuracy: 0.5325\n",
            "Epoch 33/50\n",
            "72/72 [==============================] - 1s 9ms/step - loss: 0.6929 - accuracy: 0.4986 - val_loss: 0.6920 - val_accuracy: 0.4837\n",
            "Epoch 34/50\n",
            "72/72 [==============================] - 1s 9ms/step - loss: 0.6925 - accuracy: 0.4968 - val_loss: 0.6908 - val_accuracy: 0.5325\n",
            "Epoch 35/50\n",
            "72/72 [==============================] - 1s 9ms/step - loss: 0.6932 - accuracy: 0.4928 - val_loss: 0.6922 - val_accuracy: 0.5238\n",
            "Epoch 36/50\n",
            "72/72 [==============================] - 1s 9ms/step - loss: 0.6931 - accuracy: 0.5021 - val_loss: 0.6921 - val_accuracy: 0.5225\n",
            "Epoch 37/50\n",
            "72/72 [==============================] - 1s 9ms/step - loss: 0.6927 - accuracy: 0.5000 - val_loss: 0.6923 - val_accuracy: 0.4837\n",
            "Epoch 38/50\n",
            "72/72 [==============================] - 1s 9ms/step - loss: 0.6925 - accuracy: 0.5094 - val_loss: 0.6949 - val_accuracy: 0.4850\n",
            "Epoch 39/50\n",
            "72/72 [==============================] - 1s 9ms/step - loss: 0.6931 - accuracy: 0.5089 - val_loss: 0.6918 - val_accuracy: 0.5350\n",
            "Epoch 40/50\n",
            "72/72 [==============================] - 1s 9ms/step - loss: 0.6924 - accuracy: 0.5110 - val_loss: 0.6905 - val_accuracy: 0.5350\n",
            "Epoch 41/50\n",
            "72/72 [==============================] - 1s 9ms/step - loss: 0.6926 - accuracy: 0.4925 - val_loss: 0.6926 - val_accuracy: 0.5175\n",
            "Epoch 42/50\n",
            "72/72 [==============================] - 1s 9ms/step - loss: 0.6924 - accuracy: 0.5058 - val_loss: 0.6919 - val_accuracy: 0.5250\n",
            "Epoch 43/50\n",
            "72/72 [==============================] - 1s 9ms/step - loss: 0.6927 - accuracy: 0.5015 - val_loss: 0.6933 - val_accuracy: 0.4837\n",
            "Epoch 44/50\n",
            "72/72 [==============================] - 1s 8ms/step - loss: 0.6928 - accuracy: 0.4989 - val_loss: 0.6942 - val_accuracy: 0.4837\n",
            "Epoch 45/50\n",
            "72/72 [==============================] - 1s 9ms/step - loss: 0.6929 - accuracy: 0.5003 - val_loss: 0.6933 - val_accuracy: 0.4837\n",
            "Epoch 46/50\n",
            "72/72 [==============================] - 1s 9ms/step - loss: 0.6929 - accuracy: 0.4929 - val_loss: 0.6924 - val_accuracy: 0.4850\n",
            "Epoch 47/50\n",
            "72/72 [==============================] - 1s 9ms/step - loss: 0.6933 - accuracy: 0.4928 - val_loss: 0.6926 - val_accuracy: 0.5225\n",
            "Epoch 48/50\n",
            "72/72 [==============================] - 1s 9ms/step - loss: 0.6925 - accuracy: 0.5090 - val_loss: 0.6944 - val_accuracy: 0.4825\n",
            "Epoch 49/50\n",
            "72/72 [==============================] - 1s 9ms/step - loss: 0.6924 - accuracy: 0.5043 - val_loss: 0.6925 - val_accuracy: 0.4825\n",
            "Epoch 50/50\n",
            "72/72 [==============================] - 1s 9ms/step - loss: 0.6925 - accuracy: 0.4967 - val_loss: 0.6920 - val_accuracy: 0.5250\n"
          ],
          "name": "stdout"
        }
      ]
    },
    {
      "cell_type": "code",
      "metadata": {
        "colab": {
          "base_uri": "https://localhost:8080/"
        },
        "id": "2oO9bUHveiPz",
        "outputId": "4f905158-2395-4e00-8cce-fa1ac885495e"
      },
      "source": [
        "score3 = model3.evaluate(X_test, Y_test, verbose=0)\n",
        "print(\"The accuracy of the ANN Model on test data is:\",score3[1])"
      ],
      "execution_count": null,
      "outputs": [
        {
          "output_type": "stream",
          "text": [
            "The accuracy of the ANN Model on test data is: 0.5034999847412109\n"
          ],
          "name": "stdout"
        }
      ]
    },
    {
      "cell_type": "code",
      "metadata": {
        "id": "BGoiYrEyTc9s"
      },
      "source": [
        "pred3 = model3.predict(X_test)\n",
        "pred3 = (pred3 > 0.5)"
      ],
      "execution_count": null,
      "outputs": []
    },
    {
      "cell_type": "code",
      "metadata": {
        "colab": {
          "base_uri": "https://localhost:8080/",
          "height": 727
        },
        "id": "dbK3Pvo5TPzc",
        "outputId": "5b82bc01-e9b3-495c-c1ab-62935b19d761"
      },
      "source": [
        "print('\\n')\n",
        "print(\"Confusion Matrix\")\n",
        "print('\\n')\n",
        "CR = confusion_matrix(Y_test, pred3)\n",
        "print(CR)\n",
        "print('\\n')\n",
        "\n",
        "fig, ax = plot_confusion_matrix(conf_mat=CR, figsize=(10,10),  show_absolute=True, show_normed=True, colorbar=True)"
      ],
      "execution_count": null,
      "outputs": [
        {
          "output_type": "stream",
          "text": [
            "\n",
            "\n",
            "Confusion Matrix\n",
            "\n",
            "\n",
            "[[966  34]\n",
            " [959  41]]\n",
            "\n",
            "\n"
          ],
          "name": "stdout"
        },
        {
          "output_type": "display_data",
          "data": {
            "image/png": "[encoded data removed]",
            "text/plain": [
              "<Figure size 720x720 with 2 Axes>"
            ]
          },
          "metadata": {
            "tags": [],
            "needs_background": "light"
          }
        }
      ]
    },
    {
      "cell_type": "code",
      "metadata": {
        "colab": {
          "base_uri": "https://localhost:8080/",
          "height": 299
        },
        "id": "KTkjkHseeqTo",
        "outputId": "47232e58-16b9-431f-bad0-223eb05064ad"
      },
      "source": [
        "plt.plot(['RNN', 'Decision Tree', 'ANN'], [score1[1], score2, score3[1]])\n",
        "plt.title('Model accuracy')\n",
        "plt.ylabel('Accuracy')\n",
        "plt.xlabel('Model type')\n",
        "#plt.legend(['Model Type', 'Accuracy'], loc='upper left')\n",
        "plt.show()"
      ],
      "execution_count": null,
      "outputs": [
        {
          "output_type": "display_data",
          "data": {
            "image/png": "[encoded data removed]",
            "text/plain": [
              "<Figure size 432x288 with 1 Axes>"
            ]
          },
          "metadata": {
            "tags": [],
            "needs_background": "light"
          }
        }
      ]
    }
  ]
}